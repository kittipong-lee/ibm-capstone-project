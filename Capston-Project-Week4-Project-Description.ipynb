{
    "nbformat_minor": 1, 
    "cells": [
        {
            "source": "<h1> Battle of Neighborhoods in Bangkok", 
            "cell_type": "markdown", 
            "metadata": {
                "collapsed": true
            }
        }, 
        {
            "source": "![title](http://cdn.touropia.com/gfx/d/famous-buddhist-temples/wat_arun.jpg)", 
            "cell_type": "markdown", 
            "metadata": {}
        }, 
        {
            "source": "<h2>Introduction", 
            "cell_type": "markdown", 
            "metadata": {}
        }, 
        {
            "source": "Bangkok is one of the most visiting city in the world. When the visitors, especially international visitors, are planning to visit, they need to explore the places and try to fetch as much information as possible regarding the city\n\nThis can be the neighborhoods, locality, market, restaurant including neighborhoods analysis. \n\nIt would be valuable to have an application which could make it easy by considering a comparative analysis between the neighborhoods with provided factors.\n\nThis project helps the end users to achieve the results by recommending the top 5 venues in each neighborhood of Bangkok.", 
            "cell_type": "markdown", 
            "metadata": {}
        }, 
        {
            "source": "<h2>Methodology", 
            "cell_type": "markdown", 
            "metadata": {}
        }, 
        {
            "source": "This project applies K-mean clustering unsupervised machine learning algorithm to cluster the venues based on the place category such as restaurants, park, coffee shop, gym, clubs etc. This would give a better understanding of the similarities and dissimilarities between the chosen neighborhoods to retrieve more insights and to conclude with ease which neighborhood wins over other.", 
            "cell_type": "markdown", 
            "metadata": {}
        }, 
        {
            "source": "<h2>Data Sets and APIs:", 
            "cell_type": "markdown", 
            "metadata": {}
        }, 
        {
            "source": "<h3>\u2022 Bangkok Neighborhoods Data", 
            "cell_type": "markdown", 
            "metadata": {}
        }, 
        {
            "source": "Beautiful soup web scraping is used to scrap the list of 50 districts of Bangkok from the folling url:\nhttps://en.wikipedia.org/wiki/List_of_districts_of_Bangkok", 
            "cell_type": "markdown", 
            "metadata": {}
        }, 
        {
            "source": "<h3>\u2022 Foursquare API:", 
            "cell_type": "markdown", 
            "metadata": {}
        }, 
        {
            "source": "This API has a database of more than 105 million places. This project would use Four-square API as its prime data gathering source. Many organizations are using to geo-tag their photos with detailed info about a destination, while also serving up contextually relevant locations for those who are searching for a place to eat, drink or explore. This API provides the ability to perform location search, location sharing and details about a business. Foursquare users can also use photos, tips and reviews in many productive ways to add value to the results.", 
            "cell_type": "markdown", 
            "metadata": {}
        }, 
        {
            "source": "<h3>\u2022 Folium", 
            "cell_type": "markdown", 
            "metadata": {}
        }, 
        {
            "source": "Python visualization library would be used to visualize the neighborhoods cluster distribution of Chicago city over an interactive leaflet map.Extensive comparative analysis of two randomly picked neighborhoods world be carried out to derive the desirable insights from the outcomes using python\u2019s scientific libraries Pandas, NumPy and Scikit-learn.", 
            "cell_type": "markdown", 
            "metadata": {}
        }, 
        {
            "source": "<h3>\u2022 Python packages", 
            "cell_type": "markdown", 
            "metadata": {}
        }, 
        {
            "source": "\u2022 Pandas - Library for Data Analysis\n\n\u2022 NumPy \u2013 Library to handle data in a vectorized manner\n\n\u2022 JSON \u2013 Library to handle JSON files \n\n\u2022 Geopy \u2013 To retrieve Location Data \n\n\u2022 Requests \u2013 Library to handle http requests\n\n\u2022 Matplotlib \u2013 Python Plotting Module \n\n\u2022 Sklearn \u2013 Python machine learning Library \n\n\u2022 Folium \u2013 Map rendering Library", 
            "cell_type": "markdown", 
            "metadata": {}
        }, 
        {
            "execution_count": null, 
            "cell_type": "code", 
            "metadata": {}, 
            "outputs": [], 
            "source": ""
        }
    ], 
    "metadata": {
        "kernelspec": {
            "display_name": "Python 3.5", 
            "name": "python3", 
            "language": "python"
        }, 
        "language_info": {
            "mimetype": "text/x-python", 
            "nbconvert_exporter": "python", 
            "version": "3.5.5", 
            "name": "python", 
            "file_extension": ".py", 
            "pygments_lexer": "ipython3", 
            "codemirror_mode": {
                "version": 3, 
                "name": "ipython"
            }
        }
    }, 
    "nbformat": 4
}